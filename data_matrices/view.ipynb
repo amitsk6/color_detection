{
 "metadata": {
  "language_info": {
   "codemirror_mode": {
    "name": "ipython",
    "version": 3
   },
   "file_extension": ".py",
   "mimetype": "text/x-python",
   "name": "python",
   "nbconvert_exporter": "python",
   "pygments_lexer": "ipython3",
   "version": "3.8.3-final"
  },
  "orig_nbformat": 2,
  "kernelspec": {
   "name": "python3",
   "display_name": "Python 3.8.3 64-bit",
   "metadata": {
    "interpreter": {
     "hash": "2db524e06e9f5f4ffedc911c917cb75e12dbc923643829bf417064a77eb14d37"
    }
   }
  }
 },
 "nbformat": 4,
 "nbformat_minor": 2,
 "cells": [
  {
   "cell_type": "code",
   "execution_count": 4,
   "metadata": {},
   "outputs": [
    {
     "output_type": "stream",
     "name": "stdout",
     "text": [
      "[[ 64.45820896  36.21731343  45.17880597 ...  36.53640952 147.14491709\n  215.29740447]\n [ 72.06281936  40.48872858  46.28464082 ...  41.53587367 150.18091315\n  215.94370065]\n [ 62.24094668  35.31137725  42.91873396 ...  41.52410832 152.70904888\n  218.72556143]\n ...\n [ 59.06186818  33.95915892  46.76182774 ...  32.16666667 165.08149317\n  213.07728707]\n [ 63.20284456  36.42160515  51.3152726  ...  27.16802536 168.9986413\n  217.52672101]\n [ 55.4918229   32.10251296  46.88312724 ...  24.09469697 163.34848485\n  211.5530303 ]]\n"
     ]
    }
   ],
   "source": [
    "import numpy as np\n",
    "X = np.load('X.npy')\n",
    "print(X)"
   ]
  },
  {
   "cell_type": "code",
   "execution_count": null,
   "metadata": {},
   "outputs": [],
   "source": []
  }
 ]
}