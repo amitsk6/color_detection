{
 "metadata": {
  "language_info": {
   "codemirror_mode": {
    "name": "ipython",
    "version": 3
   },
   "file_extension": ".py",
   "mimetype": "text/x-python",
   "name": "python",
   "nbconvert_exporter": "python",
   "pygments_lexer": "ipython3",
   "version": "3.8.3-final"
  },
  "orig_nbformat": 2,
  "kernelspec": {
   "name": "python3",
   "display_name": "Python 3.8.3 64-bit",
   "metadata": {
    "interpreter": {
     "hash": "2db524e06e9f5f4ffedc911c917cb75e12dbc923643829bf417064a77eb14d37"
    }
   }
  }
 },
 "nbformat": 4,
 "nbformat_minor": 2,
 "cells": [
  {
   "cell_type": "code",
   "execution_count": 2,
   "metadata": {},
   "outputs": [],
   "source": [
    "import extcolors"
   ]
  },
  {
   "cell_type": "code",
   "execution_count": 3,
   "metadata": {},
   "outputs": [],
   "source": [
    "ketones4 , pixel_count4 = extcolors.extract_from_path(\"C:/Users/UA/Pictures/micro labs/color_detection/chart/ketones.jpg\")\n",
    "lc3 , pixel_count3 = extcolors.extract_from_path(\"C:/Users/UA/Pictures/micro labs/color_detection/chart/Leuko_cytes.jpg\")\n",
    "pH2 , pixel_count2 = extcolors.extract_from_path(\"C:/Users/UA/Pictures/micro labs/color_detection/chart/pH.jpg\")\n",
    "sg1 , pixel_count1 = extcolors.extract_from_path(\"C:/Users/UA/Pictures/micro labs/color_detection/chart/specific_gravity.jpg\")"
   ]
  },
  {
   "cell_type": "code",
   "execution_count": 4,
   "metadata": {},
   "outputs": [
    {
     "output_type": "stream",
     "name": "stdout",
     "text": [
      "[((255, 255, 255), 27859), ((144, 144, 146), 2501), ((178, 88, 142), 2444), ((82, 1, 78), 1709), ((64, 65, 67), 71)] [((255, 255, 255), 37253), ((185, 123, 174), 3707), ((142, 143, 147), 3346), ((59, 60, 64), 170), ((207, 205, 154), 2)] [((255, 255, 255), 24913), ((254, 153, 45), 7344), ((111, 143, 58), 4157), ((164, 165, 169), 2222), ((236, 196, 124), 1389), ((63, 64, 68), 415)] [((254, 255, 255), 27879), ((138, 105, 2), 7715), ((164, 165, 169), 3541), ((8, 23, 20), 3297), ((21, 73, 7), 1884), ((1, 2, 50), 1065), ((229, 189, 130), 538), ((81, 82, 100), 38), ((124, 127, 82), 11)]\n"
     ]
    }
   ],
   "source": [
    "print(ketones4,lc3,pH2,sg1)"
   ]
  },
  {
   "cell_type": "code",
   "execution_count": 14,
   "metadata": {},
   "outputs": [],
   "source": [
    "ketones4=ketones4[1:]\n",
    "lc3 = lc3[1:]\n",
    "pH2 = pH2[1:]\n",
    "sg1 = sg1[1:]\n",
    "\n",
    "refchart=[sg1,pH2,lc3,ketones4]\n"
   ]
  },
  {
   "cell_type": "code",
   "execution_count": 18,
   "metadata": {},
   "outputs": [
    {
     "output_type": "stream",
     "name": "stdout",
     "text": [
      "[[((164, 165, 169), 3541), ((8, 23, 20), 3297), ((21, 73, 7), 1884), ((1, 2, 50), 1065), ((229, 189, 130), 538), ((81, 82, 100), 38), ((124, 127, 82), 11)], [((111, 143, 58), 4157), ((164, 165, 169), 2222), ((236, 196, 124), 1389), ((63, 64, 68), 415)], [((142, 143, 147), 3346), ((59, 60, 64), 170), ((207, 205, 154), 2)], [((178, 88, 142), 2444), ((82, 1, 78), 1709), ((64, 65, 67), 71)]]\n"
     ]
    }
   ],
   "source": [
    "print(refchart)"
   ]
  },
  {
   "cell_type": "code",
   "execution_count": 20,
   "metadata": {},
   "outputs": [],
   "source": [
    "def distance(refchart, cmp):\n",
    "    m=len(refchart)\n",
    "    dis_matrix=[]\n",
    "    for i in range(m):\n",
    "        x=(cmp[0][0]-refchart[i][0][0])*(cmp[0][0]-refchart[i][0][0]) + (cmp[0][1]-refchart[i][0][1])*(cmp[0][1]-refchart[i][0][1]) + (cmp[0][2]-refchart[i][0][2])*(cmp[0][2]-refchart[i][0][2])\n",
    "        sim=1/x\n",
    "        dis_matrix.append(sim) \n",
    "    return dis_matrix       "
   ]
  },
  {
   "cell_type": "code",
   "execution_count": 21,
   "metadata": {},
   "outputs": [
    {
     "output_type": "execute_result",
     "data": {
      "text/plain": [
       "[((0, 0, 0), 71085), ((210, 154, 15), 5708), ((120, 151, 109), 1885)]"
      ]
     },
     "metadata": {},
     "execution_count": 21
    }
   ],
   "source": [
    "strip , pixel_count = extcolors.extract_from_path(\"C:/Users/UA/Pictures/micro labs/color_detection/masked_data/2p22_03.jpg\")\n",
    "\n",
    "strip"
   ]
  },
  {
   "cell_type": "code",
   "execution_count": 22,
   "metadata": {},
   "outputs": [
    {
     "output_type": "execute_result",
     "data": {
      "text/plain": [
       "[((210, 154, 15), 5708), ((120, 151, 109), 1885)]"
      ]
     },
     "metadata": {},
     "execution_count": 22
    }
   ],
   "source": [
    "strip = strip[1:]\n",
    "strip\n"
   ]
  },
  {
   "cell_type": "code",
   "execution_count": 23,
   "metadata": {},
   "outputs": [
    {
     "output_type": "stream",
     "name": "stdout",
     "text": [
      "[[3.853119099911378e-05, 1.724435247456458e-05, 2.3614981344164738e-05, 1.4703720041170417e-05, 6.751738572682465e-05, 3.442340791738382e-05, 7.927699381639449e-05], [0.0003641660597232338, 0.00017445917655268666, 6.366993505666624e-05, 8.000640051204096e-05]]\n"
     ]
    }
   ],
   "source": [
    "similarity=[]\n",
    "for i in range(len(strip)):\n",
    "    x=distance(refchart[i],strip[i])\n",
    "    similarity.append(x)\n",
    "print(similarity)"
   ]
  },
  {
   "cell_type": "code",
   "execution_count": 49,
   "metadata": {},
   "outputs": [
    {
     "output_type": "stream",
     "name": "stdout",
     "text": [
      "[]\n\n[]\n\n[]\n\n[]\n\n[]\n\n[]\n\n[]\n\n[[[3.853119099911378e-05, 'specific gravity', (164, 165, 169)], [1.724435247456458e-05, 'specific gravity', (8, 23, 20)], [2.3614981344164738e-05, 'specific gravity', (21, 73, 7)], [1.4703720041170417e-05, 'specific gravity', (1, 2, 50)], [6.751738572682465e-05, 'specific gravity', (229, 189, 130)], [3.442340791738382e-05, 'specific gravity', (81, 82, 100)], [7.927699381639449e-05, 'specific gravity', (124, 127, 82)]]]\n\n[[[3.853119099911378e-05, 'specific gravity', (164, 165, 169)], [1.724435247456458e-05, 'specific gravity', (8, 23, 20)], [2.3614981344164738e-05, 'specific gravity', (21, 73, 7)], [1.4703720041170417e-05, 'specific gravity', (1, 2, 50)], [6.751738572682465e-05, 'specific gravity', (229, 189, 130)], [3.442340791738382e-05, 'specific gravity', (81, 82, 100)], [7.927699381639449e-05, 'specific gravity', (124, 127, 82)]]]\n\n[[[3.853119099911378e-05, 'specific gravity', (164, 165, 169)], [1.724435247456458e-05, 'specific gravity', (8, 23, 20)], [2.3614981344164738e-05, 'specific gravity', (21, 73, 7)], [1.4703720041170417e-05, 'specific gravity', (1, 2, 50)], [6.751738572682465e-05, 'specific gravity', (229, 189, 130)], [3.442340791738382e-05, 'specific gravity', (81, 82, 100)], [7.927699381639449e-05, 'specific gravity', (124, 127, 82)]]]\n\n[[[3.853119099911378e-05, 'specific gravity', (164, 165, 169)], [1.724435247456458e-05, 'specific gravity', (8, 23, 20)], [2.3614981344164738e-05, 'specific gravity', (21, 73, 7)], [1.4703720041170417e-05, 'specific gravity', (1, 2, 50)], [6.751738572682465e-05, 'specific gravity', (229, 189, 130)], [3.442340791738382e-05, 'specific gravity', (81, 82, 100)], [7.927699381639449e-05, 'specific gravity', (124, 127, 82)]]]\n\n"
     ]
    }
   ],
   "source": [
    "label=['specific gravity','pH','Leukocytes','ketones']\n",
    "n=len(similarity)\n",
    "labeled_sim=[]\n",
    "for i in range(n):\n",
    "    x=[]\n",
    "    m=len(similarity[i])\n",
    "    for j in range(m):\n",
    "        x.append([similarity[i][j],label[i],refchart[i][j][0]])\n",
    "        print(labeled_sim)\n",
    "        print()\n",
    "    labeled_sim.append(x)"
   ]
  },
  {
   "cell_type": "code",
   "execution_count": 50,
   "metadata": {},
   "outputs": [
    {
     "output_type": "stream",
     "name": "stdout",
     "text": [
      "[3.853119099911378e-05, 'specific gravity', (164, 165, 169)]\n[1.724435247456458e-05, 'specific gravity', (8, 23, 20)]\n[2.3614981344164738e-05, 'specific gravity', (21, 73, 7)]\n[1.4703720041170417e-05, 'specific gravity', (1, 2, 50)]\n[6.751738572682465e-05, 'specific gravity', (229, 189, 130)]\n[3.442340791738382e-05, 'specific gravity', (81, 82, 100)]\n[7.927699381639449e-05, 'specific gravity', (124, 127, 82)]\n\n[0.0003641660597232338, 'pH', (111, 143, 58)]\n[0.00017445917655268666, 'pH', (164, 165, 169)]\n[6.366993505666624e-05, 'pH', (236, 196, 124)]\n[8.000640051204096e-05, 'pH', (63, 64, 68)]\n\n"
     ]
    }
   ],
   "source": [
    "n=len(labeled_sim)\n",
    "for i in range(n):\n",
    "    m=len(labeled_sim[i])\n",
    "    for j in range(m):\n",
    "        print(labeled_sim[i][j])\n",
    "    print()\n"
   ]
  },
  {
   "cell_type": "code",
   "execution_count": 51,
   "metadata": {},
   "outputs": [
    {
     "output_type": "stream",
     "name": "stdout",
     "text": [
      "[[7.927699381639449e-05, 'specific gravity', (124, 127, 82)], [0.0003641660597232338, 'pH', (111, 143, 58)]]\n"
     ]
    }
   ],
   "source": [
    "max_sim=[]\n",
    "for i in range(n):\n",
    "    max_sim.append(max(labeled_sim[i]))\n",
    "print(max_sim)"
   ]
  },
  {
   "cell_type": "code",
   "execution_count": null,
   "metadata": {},
   "outputs": [],
   "source": []
  }
 ]
}