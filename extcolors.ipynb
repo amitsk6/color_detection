{
 "metadata": {
  "language_info": {
   "codemirror_mode": {
    "name": "ipython",
    "version": 3
   },
   "file_extension": ".py",
   "mimetype": "text/x-python",
   "name": "python",
   "nbconvert_exporter": "python",
   "pygments_lexer": "ipython3",
   "version": "3.8.3-final"
  },
  "orig_nbformat": 2,
  "kernelspec": {
   "name": "python3",
   "display_name": "Python 3.8.3 64-bit",
   "metadata": {
    "interpreter": {
     "hash": "2db524e06e9f5f4ffedc911c917cb75e12dbc923643829bf417064a77eb14d37"
    }
   }
  }
 },
 "nbformat": 4,
 "nbformat_minor": 2,
 "cells": [
  {
   "cell_type": "code",
   "execution_count": 6,
   "metadata": {},
   "outputs": [],
   "source": [
    "import extcolors"
   ]
  },
  {
   "cell_type": "code",
   "execution_count": 7,
   "metadata": {},
   "outputs": [],
   "source": [
    "colors , pixel_count = extcolors.extract_from_path(\"C:/Users/UA/Pictures/micro labs/color_detection/Urinalysis_s.jpg\")"
   ]
  },
  {
   "cell_type": "code",
   "execution_count": 8,
   "metadata": {},
   "outputs": [
    {
     "output_type": "stream",
     "name": "stdout",
     "text": [
      "[((255, 255, 255), 205552), ((112, 149, 116), 18838), ((254, 229, 163), 9474), ((253, 213, 3), 8087), ((245, 142, 123), 7949), ((138, 105, 2), 6437), ((0, 0, 4), 6214), ((180, 0, 1), 4066), ((185, 123, 174), 3907), ((254, 153, 45), 2906), ((90, 91, 95), 1887), ((81, 0, 77), 1769), ((154, 195, 67), 1424), ((21, 73, 7), 1131), ((139, 49, 48), 19)]\n"
     ]
    }
   ],
   "source": [
    "print(colors)"
   ]
  },
  {
   "cell_type": "code",
   "execution_count": 9,
   "metadata": {},
   "outputs": [],
   "source": [
    "refchart=colors[1:]\n"
   ]
  },
  {
   "cell_type": "code",
   "execution_count": 10,
   "metadata": {},
   "outputs": [
    {
     "output_type": "stream",
     "name": "stdout",
     "text": [
      "[((112, 149, 116), 18838), ((254, 229, 163), 9474), ((253, 213, 3), 8087), ((245, 142, 123), 7949), ((138, 105, 2), 6437), ((0, 0, 4), 6214), ((180, 0, 1), 4066), ((185, 123, 174), 3907), ((254, 153, 45), 2906), ((90, 91, 95), 1887), ((81, 0, 77), 1769), ((154, 195, 67), 1424), ((21, 73, 7), 1131), ((139, 49, 48), 19)]\n"
     ]
    }
   ],
   "source": [
    "print(refchart)"
   ]
  },
  {
   "cell_type": "code",
   "execution_count": 56,
   "metadata": {},
   "outputs": [],
   "source": [
    "def distance(refchart, comp):\n",
    "    m=len(refchart)\n",
    "    n=len(comp)\n",
    "    dis_matrix=[[] for i in range(n)]\n",
    "    for i in range(n):\n",
    "        for j in range(m):\n",
    "            dis=(refchart[j][0][0]-comp[i][0][0])*(refchart[j][0][0]-comp[i][0][0]) + (refchart[j][0][1]-comp[i][0][1])*(refchart[j][0][1]-comp[i][0][1]) + (refchart[j][0][2]-comp[i][0][2])*(refchart[j][0][2]-comp[i][0][2])\n",
    "            dis_matrix[i].append(1/dis)\n",
    "    return dis_matrix\n"
   ]
  },
  {
   "cell_type": "code",
   "execution_count": 57,
   "metadata": {},
   "outputs": [
    {
     "output_type": "execute_result",
     "data": {
      "text/plain": [
       "[((0, 0, 0), 71085), ((210, 154, 15), 5708), ((120, 151, 109), 1885)]"
      ]
     },
     "metadata": {},
     "execution_count": 57
    }
   ],
   "source": [
    "colors , pixel_count = extcolors.extract_from_path(\"C:/Users/UA/Pictures/micro labs/color_detection/masked_data/2p22_03.jpg\")\n",
    "\n",
    "colors"
   ]
  },
  {
   "cell_type": "code",
   "execution_count": 58,
   "metadata": {},
   "outputs": [
    {
     "output_type": "execute_result",
     "data": {
      "text/plain": [
       "[((210, 154, 15), 5708), ((120, 151, 109), 1885)]"
      ]
     },
     "metadata": {},
     "execution_count": 58
    }
   ],
   "source": [
    "cmp=colors[1:]\n",
    "cmp"
   ]
  },
  {
   "cell_type": "code",
   "execution_count": 59,
   "metadata": {},
   "outputs": [
    {
     "output_type": "execute_result",
     "data": {
      "text/plain": [
       "[[5.042864346949067e-05,\n",
       "  3.393857118615306e-05,\n",
       "  0.00018268176835951772,\n",
       "  7.672830507174097e-05,\n",
       "  0.00012896569512509673,\n",
       "  1.4719519554881728e-05,\n",
       "  4.030307915524746e-05,\n",
       "  3.7220381881118104e-05,\n",
       "  0.00035248501938667606,\n",
       "  4.037304695385361e-05,\n",
       "  2.262392253568924e-05,\n",
       "  0.00013296104241457252,\n",
       "  2.3614981344164738e-05,\n",
       "  5.829204313611192e-05],\n",
       " [0.008547008547008548,\n",
       "  3.709749220952664e-05,\n",
       "  3.0516646830846227e-05,\n",
       "  6.288517167651868e-05,\n",
       "  7.199942400460797e-05,\n",
       "  2.073570273296562e-05,\n",
       "  2.6270852489163273e-05,\n",
       "  0.00010829542993285683,\n",
       "  4.5339136742836415e-05,\n",
       "  0.00021294718909710392,\n",
       "  3.945395723191036e-05,\n",
       "  0.00020593080724876442,\n",
       "  3.803872342044201e-05,\n",
       "  6.903216899074968e-05]]"
      ]
     },
     "metadata": {},
     "execution_count": 59
    }
   ],
   "source": [
    "x=distance(refchart,cmp)\n",
    "x"
   ]
  },
  {
   "cell_type": "code",
   "execution_count": 76,
   "metadata": {},
   "outputs": [],
   "source": [
    "presence=[[] for i in range(len(x))]\n",
    "thres=0.00008\n",
    "\n",
    "for i in range(len(x)):\n",
    "    for j in range(len(x[0])):\n",
    "        if(x[i][j]>=thres):\n",
    "            presence[i].append([1,refchart[j][0],x[i][j]])\n",
    "        else:\n",
    "            presence[i].append([0,refchart[j][0]])        "
   ]
  },
  {
   "cell_type": "code",
   "execution_count": 77,
   "metadata": {},
   "outputs": [
    {
     "output_type": "stream",
     "name": "stdout",
     "text": [
      "[0, (112, 149, 116)]\n[0, (254, 229, 163)]\n[1, (253, 213, 3), 0.00018268176835951772]\n[0, (245, 142, 123)]\n[1, (138, 105, 2), 0.00012896569512509673]\n[0, (0, 0, 4)]\n[0, (180, 0, 1)]\n[0, (185, 123, 174)]\n[1, (254, 153, 45), 0.00035248501938667606]\n[0, (90, 91, 95)]\n[0, (81, 0, 77)]\n[1, (154, 195, 67), 0.00013296104241457252]\n[0, (21, 73, 7)]\n[0, (139, 49, 48)]\n\n\n[1, (112, 149, 116), 0.008547008547008548]\n[0, (254, 229, 163)]\n[0, (253, 213, 3)]\n[0, (245, 142, 123)]\n[0, (138, 105, 2)]\n[0, (0, 0, 4)]\n[0, (180, 0, 1)]\n[1, (185, 123, 174), 0.00010829542993285683]\n[0, (254, 153, 45)]\n[1, (90, 91, 95), 0.00021294718909710392]\n[0, (81, 0, 77)]\n[1, (154, 195, 67), 0.00020593080724876442]\n[0, (21, 73, 7)]\n[0, (139, 49, 48)]\n\n\n"
     ]
    }
   ],
   "source": [
    "for i in range(len(x)):\n",
    "    for j in range(len(x[0])):\n",
    "        print(presence[i][j])\n",
    "    print(\"\\n\")"
   ]
  },
  {
   "cell_type": "code",
   "execution_count": null,
   "metadata": {},
   "outputs": [],
   "source": []
  },
  {
   "cell_type": "code",
   "execution_count": null,
   "metadata": {},
   "outputs": [],
   "source": []
  }
 ]
}